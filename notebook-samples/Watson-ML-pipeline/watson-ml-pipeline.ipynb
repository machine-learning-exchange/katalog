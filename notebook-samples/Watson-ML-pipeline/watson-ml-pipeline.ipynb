{
 "cells": [
  {
   "cell_type": "markdown",
   "metadata": {},
   "source": [
    "# Train, store and deploy tensorflow model on Watson Machine Learning service"
   ]
  },
  {
   "attachments": {
    "Screen%20Shot%202019-02-15%20at%204.59.42%20PM.png": {
     "image/png": "[encoded data removed]"
    }
   },
   "cell_type": "markdown",
   "metadata": {},
   "source": [
    "##### Pipeline for Training and deploying with Watson Machine Learning.\n",
    "![Screen%20Shot%202019-02-15%20at%204.59.42%20PM.png](attachment:Screen%20Shot%202019-02-15%20at%204.59.42%20PM.png)"
   ]
  },
  {
   "cell_type": "markdown",
   "metadata": {},
   "source": [
    "### Model for this pipeline\n",
    "We will be training a TensorFlow model that can classify the handwritten digits. This TensorFlow model is a simple convolutional neural network (CNN) with 2 convolutional layers and 1 fully connected layers using the [MNIST](http://yann.lecun.com/exdb/mnist/) dataset. We will be training for 200,000 iterations for the purpose of this demo.\n",
    "\n",
    "<br><br>"
   ]
  },
  {
   "cell_type": "markdown",
   "metadata": {},
   "source": [
    "Prior to run this pipeline, need to update the cluster role binding from pipeline-runner to cluster-admin. This is one time modification to the Kubeflow Pipelines service. It allows the secrets to be created inside the container."
   ]
  },
  {
   "cell_type": "code",
   "execution_count": null,
   "metadata": {
    "scrolled": false
   },
   "outputs": [],
   "source": [
    "# install the SDK\n",
    "KFP_PACKAGE = 'https://storage.googleapis.com/ml-pipeline/release/0.1.21/kfp.tar.gz'\n",
    "!pip install $KFP_PACKAGE --upgrade"
   ]
  },
  {
   "cell_type": "code",
   "execution_count": null,
   "metadata": {},
   "outputs": [],
   "source": [
    "# install ai_pipeline_params package\n",
    "!pip install ai_pipeline_params --upgrade --no-cache-dir"
   ]
  },
  {
   "cell_type": "markdown",
   "metadata": {},
   "source": [
    "Prereq: users provide the credentials to access the Watson Machine Learning service as well as the S3 Cloud Storage in a <key = value> pair text file. Then run the **create-secret.ipynb** notebook to create the credentials as secret."
   ]
  },
  {
   "cell_type": "code",
   "execution_count": null,
   "metadata": {},
   "outputs": [],
   "source": [
    "# define secret name\n",
    "secret_name = 'ai-pipeline-creds'"
   ]
  },
  {
   "cell_type": "markdown",
   "metadata": {},
   "source": [
    "* Create an experiment"
   ]
  },
  {
   "cell_type": "code",
   "execution_count": null,
   "metadata": {},
   "outputs": [],
   "source": [
    "# set up\n",
    "EXPERIMENT_NAME = 'Watson Machine Learning Experiment'"
   ]
  },
  {
   "cell_type": "code",
   "execution_count": null,
   "metadata": {},
   "outputs": [],
   "source": [
    "# create experiment\n",
    "import kfp\n",
    "\n",
    "client = kfp.Client()\n",
    "exp = client.create_experiment(name=EXPERIMENT_NAME)"
   ]
  },
  {
   "cell_type": "markdown",
   "metadata": {},
   "source": [
    "* Construct the pipeline"
   ]
  },
  {
   "cell_type": "code",
   "execution_count": null,
   "metadata": {},
   "outputs": [],
   "source": [
    "# create pipelines\n",
    "import kfp\n",
    "from kfp import components\n",
    "from kfp import dsl\n",
    "import ai_pipeline_params as params\n",
    "\n",
    "train_op = components.load_component_from_url('https://raw.githubusercontent.com/kubeflow/pipelines/master/components/ibm-components/watson/train/component.yaml')\n",
    "store_op = components.load_component_from_url('https://raw.githubusercontent.com/kubeflow/pipelines/master/components/ibm-components/watson/store/component.yaml')\n",
    "deploy_op = components.load_component_from_url('https://raw.githubusercontent.com/kubeflow/pipelines/master/components/ibm-components/watson/deploy/component.yaml')\n",
    "\n",
    "# create pipelines\n",
    "\n",
    "@dsl.pipeline(\n",
    "    name='KFP on WML training',\n",
    "    description='Kubeflow pipelines running on WML performing tensorflow image recognition.'\n",
    ")\n",
    "def kfp_wml_pipeline(\n",
    "    train_code='tf-model.zip',\n",
    "    execution_command='\\'python3 convolutional_network.py --trainImagesFile ${DATA_DIR}/train-images-idx3-ubyte.gz --trainLabelsFile ${DATA_DIR}/train-labels-idx1-ubyte.gz --testImagesFile ${DATA_DIR}/t10k-images-idx3-ubyte.gz --testLabelsFile ${DATA_DIR}/t10k-labels-idx1-ubyte.gz --learningRate 0.001 --trainingIters 20000\\'',\n",
    "    framework= 'tensorflow',\n",
    "    framework_version = '1.13',\n",
    "    runtime = 'python',\n",
    "    runtime_version = '3.6',\n",
    "    run_definition = 'wml-tensorflow-definition',\n",
    "    run_name = 'wml-tensorflow-run',\n",
    "    model_name='wml-tensorflow-mnist',\n",
    "    scoring_payload='tf-mnist-test-payload.json'\n",
    "):\n",
    "    # op1 - this operation trains the model with the model codes and data saved in the cloud object store\n",
    "    wml_train = train_op(\n",
    "                   train_code=train_code,\n",
    "                   execution_command=execution_command,\n",
    "                   framework=framework,\n",
    "                   framework_version=framework_version,\n",
    "                   runtime=runtime,\n",
    "                   runtime_version=runtime_version,\n",
    "                   run_definition=run_definition,\n",
    "                   run_name=run_name\n",
    "                   ).apply(params.use_ai_pipeline_params(secret_name))\n",
    "\n",
    "    # op2 - this operation stores the model trained above\n",
    "    wml_store = store_op(\n",
    "                   wml_train.outputs['run_uid'],\n",
    "                   model_name\n",
    "                  ).apply(params.use_ai_pipeline_params(secret_name))\n",
    "\n",
    "    # op3 - this operation deploys the model to a web service and run scoring with the payload in the cloud object store\n",
    "    wml_deploy = deploy_op(\n",
    "                  wml_store.output,\n",
    "                  model_name,\n",
    "                  scoring_payload\n",
    "                 ).apply(params.use_ai_pipeline_params(secret_name))"
   ]
  },
  {
   "cell_type": "markdown",
   "metadata": {},
   "source": [
    "* Compile the pipeline"
   ]
  },
  {
   "cell_type": "code",
   "execution_count": null,
   "metadata": {},
   "outputs": [],
   "source": [
    "# compile the pipeline\n",
    "import kfp.compiler as compiler\n",
    "pipeline_filename = kfp_wml_pipeline.__name__ + '.tar.gz'\n",
    "compiler.Compiler().compile(kfp_wml_pipeline, pipeline_filename)"
   ]
  },
  {
   "cell_type": "markdown",
   "metadata": {},
   "source": [
    "* Run the pipeline"
   ]
  },
  {
   "cell_type": "code",
   "execution_count": null,
   "metadata": {},
   "outputs": [],
   "source": [
    "# run the pipeline\n",
    "run_name = kfp_wml_pipeline.__name__ + ' run'\n",
    "run_result = client.run_pipeline(exp.id, run_name, pipeline_filename)\n",
    "import IPython\n",
    "html = ('<p id=\"link\"> </p> <script> document.getElementById(\"link\").innerHTML = \"Actual Run link <a href=//\" + location.host + \"%s/#/runs/details/%s target=_blank >here</a>\"; </script>'\n",
    "          % (client._get_url_prefix(), run_result.id))\n",
    "IPython.display.HTML(html)"
   ]
  },
  {
   "cell_type": "code",
   "execution_count": null,
   "metadata": {},
   "outputs": [],
   "source": [
    "# Show page with iframe\n",
    "import IPython\n",
    "html = ('<p id=\"web\"> </p> <script> document.getElementById(\"web\").innerHTML = \"<iframe width=1100 height=700 src=http://\" + location.host + \"%s/#/runs/details/%s target=_blank >here</iframe>\"; </script>'\n",
    "          % (client._get_url_prefix(), run_result.id))\n",
    "IPython.display.HTML(html)"
   ]
  },
  {
   "cell_type": "code",
   "execution_count": null,
   "metadata": {},
   "outputs": [],
   "source": []
  }
 ],
 "metadata": {
  "kernelspec": {
   "display_name": "Python on Kubernetes",
   "language": "python",
   "name": "python_kubernetes"
  },
  "language_info": {
   "codemirror_mode": {
    "name": "ipython",
    "version": 3
   },
   "file_extension": ".py",
   "mimetype": "text/x-python",
   "name": "python",
   "nbconvert_exporter": "python",
   "pygments_lexer": "ipython3",
   "version": "3.6.8"
  }
 },
 "nbformat": 4,
 "nbformat_minor": 2
}
