{
 "cells": [
  {
   "cell_type": "markdown",
   "metadata": {},
   "source": [
    "# Define pipeline secrets\n"
   ]
  },
  {
   "cell_type": "markdown",
   "metadata": {},
   "source": [
    "### 1. Define the necessary environment variables and install the Kubernetes CLI\n",
    "We assume this notebook kernel has access to the service account on kubernetes."
   ]
  },
  {
   "cell_type": "code",
   "execution_count": null,
   "metadata": {},
   "outputs": [],
   "source": [
    "import requests\n",
    "import subprocess\n",
    "res = requests.get('https://storage.googleapis.com/kubernetes-release/release/v1.14.0/bin/linux/amd64/kubectl', allow_redirects=True)\n",
    "open('kubectl', 'wb').write(res.content)\n",
    "subprocess.call(['chmod', '755', 'kubectl'])"
   ]
  },
  {
   "cell_type": "markdown",
   "metadata": {},
   "source": [
    "## 2.1. Define Credentials for the IBM OSS pipeline\n",
    "\n",
    "**Please fill in the below environment variables with you own settings.**\n",
    "\n",
    "- **s3_url**: S3 Object storage endpoint for your FfDL training job.\n",
    "- **s3_access_key_id**: S3 Object storage access key id\n",
    "- **s3_secret_access_key**: S3 Object storage secret access key\n",
    "- **training_bucket**: S3 Bucket for the training job data location.\n",
    "- **result_bucket**: S3 Bucket for the training job result location.\n",
    "- **ffdl_rest**: RESTAPI endpoint for FfDL.\n",
    "- **k8s_public_nodeport_ip**: IP of the host machine. It will be used to generate a web service endpoint for the served model."
   ]
  },
  {
   "cell_type": "code",
   "execution_count": null,
   "metadata": {},
   "outputs": [],
   "source": [
    "oss_creds= {\n",
    "    's3_url': '',\n",
    "    's3_access_key_id': '',\n",
    "    's3_secret_access_key': '',\n",
    "    'training_bucket': '',\n",
    "    'result_bucket': '',\n",
    "    'ffdl_rest': '',\n",
    "    'k8s_public_nodeport_ip': ''\n",
    "}"
   ]
  },
  {
   "cell_type": "code",
   "execution_count": null,
   "metadata": {},
   "outputs": [],
   "source": [
    "### Define a secret_name for your credentials\n",
    "secret_name = \"kfp-creds\"\n",
    "command = ['./kubectl', 'create', 'secret', 'generic', secret_name]\n",
    "for key in oss_creds:\n",
    "    command.append('--from-literal=%s=\\'%s\\'' % (key, oss_creds[key]))"
   ]
  },
  {
   "cell_type": "code",
   "execution_count": null,
   "metadata": {},
   "outputs": [],
   "source": [
    "!./kubectl delete secret $secret_name"
   ]
  },
  {
   "cell_type": "code",
   "execution_count": null,
   "metadata": {},
   "outputs": [],
   "source": [
    "subprocess.run(command)"
   ]
  },
  {
   "cell_type": "code",
   "execution_count": null,
   "metadata": {},
   "outputs": [],
   "source": [
    "!./kubectl describe secret $secret_name"
   ]
  },
  {
   "cell_type": "markdown",
   "metadata": {},
   "source": [
    "## 2.2. Define Credentials for the WML pipeline\n",
    "\n",
    "**Please fill in the below environment variables with you own settings.**"
   ]
  },
  {
   "cell_type": "code",
   "execution_count": null,
   "metadata": {},
   "outputs": [],
   "source": [
    "wml_creds= {\n",
    "    'wml_url': '',\n",
    "    'wml_apikey': '',\n",
    "    'wml_instance_id': '',\n",
    "    'wml_data_source_type': '',\n",
    "    'cos_endpoint': '',\n",
    "    'cos_access_key': '',\n",
    "    'cos_secret_key': '',\n",
    "    'cos_input_bucket': '',\n",
    "    'cos_output_bucket': ''\n",
    "}"
   ]
  },
  {
   "cell_type": "code",
   "execution_count": null,
   "metadata": {},
   "outputs": [],
   "source": [
    "### Define a secret_name for your credentials\n",
    "secret_name_wml = \"wml-creds\"\n",
    "command = ['./kubectl', 'create', 'secret', 'generic', secret_name_wml]\n",
    "for key in wml_creds:\n",
    "    command.append('--from-literal=%s=\\'%s\\'' % (key, wml_creds[key]))"
   ]
  },
  {
   "cell_type": "code",
   "execution_count": null,
   "metadata": {},
   "outputs": [],
   "source": [
    "!./kubectl delete secret $secret_name_wml"
   ]
  },
  {
   "cell_type": "code",
   "execution_count": null,
   "metadata": {},
   "outputs": [],
   "source": [
    "subprocess.run(command)"
   ]
  },
  {
   "cell_type": "code",
   "execution_count": null,
   "metadata": {},
   "outputs": [],
   "source": [
    "!./kubectl describe secret $secret_name_wml"
   ]
  },
  {
   "cell_type": "markdown",
   "metadata": {},
   "source": [
    "## 2.3. Define Credentials for the End to End and Canary testing pipeline\n",
    "\n",
    "**Please fill in the below environment variables with you own settings.**\n",
    "- **s3_url**: S3 Object storage endpoint for your FfDL training job.\n",
    "- **s3_access_key_id**: S3 Object storage access key id\n",
    "- **s3_secret_access_key**: S3 Object storage secret access key\n",
    "- **training_bucket**: S3 Bucket for the training job data location.\n",
    "- **result_bucket**: S3 Bucket for the training job result location.\n",
    "- **ffdl_rest**: RESTAPI endpoint for FfDL.\n",
    "- **slack_api_endpoint**: Slack App WebHook for notify the operator regrading the pipeline status.\n",
    "- **retrain_func_endpoint**: The OpenWhisk function endpoint to trigger a new retrain pipeline."
   ]
  },
  {
   "cell_type": "code",
   "execution_count": null,
   "metadata": {},
   "outputs": [],
   "source": [
    "e2e_creds= {\n",
    "    's3_url': '',\n",
    "    's3_access_key_id': '',\n",
    "    's3_secret_access_key': '',\n",
    "    'training_bucket': '',\n",
    "    'result_bucket': '',\n",
    "    'ffdl_rest': '',\n",
    "    'slack_api_endpoint': '',\n",
    "    'knative_url': '',\n",
    "    'kiali_domain_name': '',\n",
    "    'knative_ingress': '',\n",
    "    'local_cluster_deployment': '',\n",
    "    'knative_custom_domain': '',\n",
    "    'k8s_controller_url': '',\n",
    "    'public_ip': ''\n",
    "}"
   ]
  },
  {
   "cell_type": "code",
   "execution_count": null,
   "metadata": {},
   "outputs": [],
   "source": [
    "### Define a secret_name for your credentials\n",
    "secret_name_e2e = \"e2e-creds\"\n",
    "command = ['./kubectl', 'create', 'secret', 'generic', secret_name_e2e]\n",
    "for key in e2e_creds:\n",
    "    command.append('--from-literal=%s=\\'%s\\'' % (key, e2e_creds[key]))"
   ]
  },
  {
   "cell_type": "code",
   "execution_count": null,
   "metadata": {},
   "outputs": [],
   "source": [
    "!./kubectl delete secret $secret_name_e2e"
   ]
  },
  {
   "cell_type": "code",
   "execution_count": null,
   "metadata": {},
   "outputs": [],
   "source": [
    "subprocess.run(command)"
   ]
  },
  {
   "cell_type": "code",
   "execution_count": null,
   "metadata": {},
   "outputs": [],
   "source": [
    "!./kubectl describe secret $secret_name_e2e"
   ]
  },
  {
   "cell_type": "markdown",
   "metadata": {},
   "source": [
    "## Define Credentials for the Watson Openscale pipeline\n",
    "\n",
    "**Please fill in the below environment variables with you own settings.**\n",
    "\n",
    "- **aios_guid**: GUID of the AI OpenScale service\n",
    "- **cloud_api_key**: API Key for accessing IBM Cloud\n",
    "- **postgres_uri**: PostgreSQL URI for accessing the database\n",
    "- **cos_url**: IBM Cloud Object Storage Regional URL.\n",
    "- **cos_apikey**: API Key for IBM Cloud Object Storage.\n",
    "- **cos_resource_id**: IBM Cloud Object Storage resource instance ID\n",
    "- **wml_credentials**: Watson Machine Learning credentials stored as Json string\n",
    "- **spark_tenant_id**: Spark service tenant id\n",
    "- **spark_tenant_secret** : Spark service tenant secret\n",
    "- **spark_cluster_master_url**: Spark service cluster master URL\n",
    "- **spark_instance_id**: Spark service instance ID"
   ]
  },
  {
   "cell_type": "code",
   "execution_count": null,
   "metadata": {},
   "outputs": [],
   "source": [
    "aios_creds= {\n",
    "    'aios_guid': '',\n",
    "    'cloud_api_key': '',\n",
    "    'postgres_uri': '',\n",
    "    'spark_tenant_id': '',\n",
    "    'spark_tenant_secret': '',\n",
    "    'spark_cluster_master_url': '',\n",
    "    'spark_instance_id': '',\n",
    "    'cos_endpoint': '',\n",
    "    'cos_access_key': '',\n",
    "    'cos_secret_key': '',\n",
    "    'wml_apikey': '',\n",
    "    'wml_password': '',\n",
    "    'wml_instance_id': ''\n",
    "}"
   ]
  },
  {
   "cell_type": "code",
   "execution_count": null,
   "metadata": {},
   "outputs": [],
   "source": [
    "### Define a secret_name for your credentials\n",
    "secret_name_aios = \"aios-creds\"\n",
    "command = ['./kubectl', 'create', 'secret', 'generic', secret_name_aios]\n",
    "for key in aios_creds:\n",
    "    command.append('--from-literal=%s=\\'%s\\'' % (key, aios_creds[key]))"
   ]
  },
  {
   "cell_type": "code",
   "execution_count": null,
   "metadata": {},
   "outputs": [],
   "source": [
    "!./kubectl delete secret $secret_name_aios"
   ]
  },
  {
   "cell_type": "code",
   "execution_count": null,
   "metadata": {},
   "outputs": [],
   "source": [
    "subprocess.run(command)"
   ]
  },
  {
   "cell_type": "code",
   "execution_count": null,
   "metadata": {},
   "outputs": [],
   "source": [
    "!./kubectl describe secret $secret_name_aios"
   ]
  }
 ],
 "metadata": {
  "kernelspec": {
   "display_name": "Python on Kubernetes",
   "language": "python",
   "name": "python_kubernetes"
  },
  "language_info": {
   "codemirror_mode": {
    "name": "ipython",
    "version": 3
   },
   "file_extension": ".py",
   "mimetype": "text/x-python",
   "name": "python",
   "nbconvert_exporter": "python",
   "pygments_lexer": "ipython3",
   "version": "3.6.8"
  }
 },
 "nbformat": 4,
 "nbformat_minor": 2
}
