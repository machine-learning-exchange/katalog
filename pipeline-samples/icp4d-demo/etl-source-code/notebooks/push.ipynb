{
 "cells": [
  {
   "cell_type": "markdown",
   "metadata": {},
   "source": [
    "# push.ipynb\n",
    "\n",
    "Code to generate an push a batch of time series data to Kafka.\n",
    "\n",
    "Mostly for testing purposes."
   ]
  },
  {
   "cell_type": "code",
   "execution_count": null,
   "metadata": {},
   "outputs": [],
   "source": [
    "# Initialization stuff goes in this cell.\n",
    "import os\n",
    "import sys\n",
    "\n",
    "import confluent_kafka as kafka\n",
    "import pandas as pd\n",
    "\n",
    "import json\n",
    "import io\n",
    "\n",
    "# Function that configures the notebook kernel by putting the lib directory \n",
    "# onto the library path and changing the working directory to the top-level\n",
    "# project dir. Idempotent.\n",
    "def setup_kernel():\n",
    "    # Move to project root if we're not already there\n",
    "    if os.getcwd().endswith(\"notebooks\"):\n",
    "        os.chdir(\"..\")\n",
    "    # TODO: Verify that we're actually at the project root.\n",
    "    # Add the lib dir to the Python path if it's not already there.\n",
    "    lib_dir = os.getcwd() + \"/lib\"\n",
    "    if lib_dir not in sys.path:\n",
    "        sys.path.append(lib_dir)\n",
    "\n",
    "\n",
    "setup_kernel()        \n",
    "import reefer.simulator.domain.reefer_simulator as sim\n"
   ]
  },
  {
   "cell_type": "code",
   "execution_count": null,
   "metadata": {},
   "outputs": [],
   "source": [
    "# Retrieve configuration parameters from the environment, if present.\n",
    "\n",
    "# Start a map from environment var => default value.\n",
    "PARAMS_MAP = {\n",
    "    \"kafka_bootstrap_servers\": \"localhost:9092\",\n",
    "    \"kafka_topic\": \"reefer\",\n",
    "}\n",
    "\n",
    "# Override with environment variable values where applicable.\n",
    "# Uppercase names, i.e. PARAMS_MAP[\"my_var_name\"] <=> os.environ[\"MY_VAR_NAME\"]\n",
    "for k in PARAMS_MAP.keys():\n",
    "    env_var_name = k.upper()\n",
    "    if env_var_name in os.environ:\n",
    "        PARAMS_MAP[k] = os.environ[env_var_name]\n",
    "      \n",
    "# TODO: Remove the following line to avoid leaking credentials to the log\n",
    "PARAMS_MAP"
   ]
  },
  {
   "cell_type": "code",
   "execution_count": null,
   "metadata": {},
   "outputs": [],
   "source": [
    "# Generate a block of time series data\n",
    "data_gen = sim.ReeferSimulator()\n",
    "df = data_gen.generateNormalRecords(cid=\"C0001\", nb_records=10)\n",
    "df"
   ]
  },
  {
   "cell_type": "code",
   "execution_count": null,
   "metadata": {},
   "outputs": [],
   "source": [
    "# Convert to lines of JSON data\n",
    "# csv_str = df[_DF_COLS].to_csv(index=False, header=False)\n",
    "# csv_lines = csv_str.split(\"\\n\")[:-1]\n",
    "# csv_lines[:3]\n",
    "json_str = df.to_json(orient=\"records\", lines=True)\n",
    "json_lines = json_str.split(\"\\n\")\n",
    "json_lines[:3]"
   ]
  },
  {
   "cell_type": "code",
   "execution_count": null,
   "metadata": {},
   "outputs": [],
   "source": [
    "# Verify that our JSON is valid\n",
    "json_buf = io.StringIO(\"\\n\".join(json_lines))\n",
    "pd.read_json(json_buf, orient=\"records\", lines=True)"
   ]
  },
  {
   "cell_type": "code",
   "execution_count": null,
   "metadata": {},
   "outputs": [],
   "source": [
    "# Send each line of JSON data as a separate Kafka message.\n",
    "# Do everything in one cell so we don't accidentally leave producer connections \n",
    "# open.\n",
    "prod = kafka.Producer({\n",
    "    \"bootstrap.servers\" : PARAMS_MAP[\"kafka_bootstrap_servers\"]\n",
    "})\n",
    "for l in json_lines:\n",
    "    prod.produce(topic=PARAMS_MAP[\"kafka_topic\"], value=l.encode(\"utf-8\"))\n",
    "prod.flush()"
   ]
  },
  {
   "cell_type": "code",
   "execution_count": null,
   "metadata": {},
   "outputs": [],
   "source": []
  },
  {
   "cell_type": "code",
   "execution_count": null,
   "metadata": {},
   "outputs": [],
   "source": []
  },
  {
   "cell_type": "code",
   "execution_count": null,
   "metadata": {},
   "outputs": [],
   "source": []
  }
 ],
 "metadata": {
  "kernelspec": {
   "display_name": "Python 3",
   "language": "python",
   "name": "python3"
  },
  "language_info": {
   "codemirror_mode": {
    "name": "ipython",
    "version": 3
   },
   "file_extension": ".py",
   "mimetype": "text/x-python",
   "name": "python",
   "nbconvert_exporter": "python",
   "pygments_lexer": "ipython3",
   "version": "3.7.4"
  }
 },
 "nbformat": 4,
 "nbformat_minor": 4
}
